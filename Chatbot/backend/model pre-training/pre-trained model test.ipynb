{
 "cells": [
  {
   "metadata": {
    "ExecuteTime": {
     "end_time": "2024-10-30T12:35:02.386503Z",
     "start_time": "2024-10-30T12:35:02.380093Z"
    }
   },
   "cell_type": "code",
   "source": [
    "# Configure environment variable\n",
    "%env API_KEY=<api_key>\n",
    "# Replace '<api_key>' with API key"
   ],
   "id": "7a40ba96cddbf438",
   "outputs": [
    {
     "name": "stdout",
     "output_type": "stream",
     "text": [
      "env: API_KEY=<api_key>\n"
     ]
    }
   ],
   "execution_count": 1
  },
  {
   "cell_type": "code",
   "id": "initial_id",
   "metadata": {
    "collapsed": true,
    "ExecuteTime": {
     "end_time": "2024-10-28T04:57:19.821236Z",
     "start_time": "2024-10-28T04:57:19.818365Z"
    }
   },
   "source": [
    "# Library imports\n",
    "import google.generativeai as genai\n",
    "import os\n",
    "\n",
    "# Configure model\n",
    "genai.configure(api_key=os.environ[\"API_KEY\"]) # 'API_KEY' needs to be set as\n",
    "# environment variable"
   ],
   "outputs": [],
   "execution_count": 12
  },
  {
   "metadata": {
    "ExecuteTime": {
     "end_time": "2024-10-28T04:57:57.297312Z",
     "start_time": "2024-10-28T04:57:57.294305Z"
    }
   },
   "cell_type": "code",
   "source": [
    "# Configure base model\n",
    "base_model = genai.GenerativeModel(\"gemini-1.5-flash\")"
   ],
   "id": "eb7f4c5d771549b5",
   "outputs": [],
   "execution_count": 13
  },
  {
   "metadata": {
    "ExecuteTime": {
     "end_time": "2024-10-28T04:58:00.886337Z",
     "start_time": "2024-10-28T04:57:58.255522Z"
    }
   },
   "cell_type": "code",
   "source": [
    "# Base model test: \"High systolic blood pressure\"\n",
    "base_systolic = base_model.generate_content(\"High systolic blood pressure\")\n",
    "print(base_systolic.text)"
   ],
   "id": "334f6145a4ec45d5",
   "outputs": [
    {
     "name": "stdout",
     "output_type": "stream",
     "text": [
      "I understand you're concerned about high systolic blood pressure. It's important to remember that I'm not a medical professional and can't provide medical advice. **If you're experiencing high systolic blood pressure, it's crucial to reach out to your doctor or a healthcare provider.** They can properly assess your condition, determine the cause, and recommend the most appropriate treatment plan for you. \n",
      "\n",
      "Here's what I can tell you about high systolic blood pressure:\n",
      "\n",
      "* **Systolic blood pressure** is the pressure in your arteries when your heart beats. \n",
      "* **High systolic blood pressure** means your heart is working harder than it should to pump blood throughout your body. \n",
      "* **It's a serious condition** that can increase your risk of heart attack, stroke, kidney failure, and other health problems.\n",
      "* **It's often called \"the silent killer\"** because many people have high blood pressure without any noticeable symptoms. \n",
      "\n",
      "**What to do if you have high systolic blood pressure:**\n",
      "\n",
      "* **Contact your doctor.** They will take your blood pressure and ask about your medical history and lifestyle. \n",
      "* **Follow your doctor's recommendations.** This may include lifestyle changes, such as eating a healthier diet, exercising regularly, losing weight, and quitting smoking, as well as medication.\n",
      "\n",
      "**I hope you seek the advice of a medical professional for your high systolic blood pressure. Your health is a priority, and getting proper medical care is essential.** \n",
      "\n"
     ]
    }
   ],
   "execution_count": 14
  },
  {
   "metadata": {
    "ExecuteTime": {
     "end_time": "2024-10-28T04:58:11.942805Z",
     "start_time": "2024-10-28T04:58:10.279182Z"
    }
   },
   "cell_type": "code",
   "source": [
    "# Base model test: \"High diastolic blood pressure\"\n",
    "base_diastolic = base_model.generate_content(\"High diastolic blood pressure\")\n",
    "print(base_diastolic.text)"
   ],
   "id": "81bd8f68687309a8",
   "outputs": [
    {
     "name": "stdout",
     "output_type": "stream",
     "text": [
      "I'm sorry, but I can't provide medical advice. \n",
      "\n",
      "**High diastolic blood pressure is a serious condition that requires medical attention.** It's essential to talk to your doctor about your blood pressure readings and any concerns you have. \n",
      "\n",
      "**Here's why it's crucial to seek professional advice:**\n",
      "\n",
      "* **Accurate Diagnosis:** Only a doctor can determine the underlying cause of high diastolic blood pressure and rule out any other medical conditions. \n",
      "* **Treatment Plan:** Your doctor will be able to recommend the appropriate treatment plan based on your individual needs, which might include lifestyle modifications, medication, or other interventions.\n",
      "* **Monitoring and Management:** Regular monitoring and adjustments to your treatment plan are essential to manage high diastolic blood pressure effectively.\n",
      "\n",
      "**I strongly encourage you to schedule an appointment with your doctor to discuss your concerns.** \n",
      "\n",
      "**In the meantime, you can:**\n",
      "\n",
      "* **Monitor your blood pressure regularly:** Use a home blood pressure monitor to keep track of your readings.\n",
      "* **Make healthy lifestyle changes:** Follow a balanced diet, exercise regularly, and maintain a healthy weight.\n",
      "* **Reduce stress:** Find healthy ways to manage stress, such as relaxation techniques or yoga.\n",
      "* **Limit alcohol consumption:** Excessive alcohol intake can raise blood pressure.\n",
      "\n",
      "Remember, your health is a top priority. Please seek professional medical advice for any concerns about your blood pressure. \n",
      "\n"
     ]
    }
   ],
   "execution_count": 15
  },
  {
   "metadata": {
    "ExecuteTime": {
     "end_time": "2024-10-28T04:59:12.059963Z",
     "start_time": "2024-10-28T04:59:12.056829Z"
    }
   },
   "cell_type": "code",
   "source": [
    "# Configure pre-trained model\n",
    "pretrained_model = genai.GenerativeModel(model_name=\"tunedModels/\"\n",
    "                                                    \"blood-pressure-\"\n",
    "                                                    \"kr5gwf8pyob9\")\n",
    "# Pre-trained model may have different name"
   ],
   "id": "ea44a38548fd7a1d",
   "outputs": [],
   "execution_count": 16
  },
  {
   "metadata": {
    "ExecuteTime": {
     "end_time": "2024-10-28T04:59:38.575195Z",
     "start_time": "2024-10-28T04:59:34.639859Z"
    }
   },
   "cell_type": "code",
   "source": [
    "# Pre-trained model test: \"High systolic blood pressure\"\n",
    "pretrained_systolic = pretrained_model.generate_content(\"High systolic blood \"\n",
    "                                                        \"pressure\")\n",
    "print(pretrained_systolic.text)"
   ],
   "id": "f79e0be76f702a8d",
   "outputs": [
    {
     "name": "stdout",
     "output_type": "stream",
     "text": [
      "High systolic blood pressure is a serious health condition that can lead to serious health problems if left untreated. It is defined as a systolic blood pressure of 130mmHg or higher.\n",
      "\n",
      "**Causes of High Systolic Blood Pressure**\n",
      "There are many causes of high systolic blood pressure, including:\n",
      "* **High Stress:** Stress can cause your heart to beat faster and your blood pressure to rise.\n",
      "* **Diet:** A diet high in sodium and saturated fat can contribute to high blood pressure.\n",
      "* **Overweight or Obesity:** Being overweight or obese can put strain on your heart and blood vessels, leading to high blood pressure.\n",
      "* **Lack of Exercise:** Regular exercise can help lower blood pressure.\n",
      "* **Smoking:** Smoking damages blood vessels and can increase blood pressure.\n",
      "* **Alcohol Consumption:** Consuming alcohol in excess can raise blood pressure.\n",
      "* **Medications:** Some medications can cause high blood pressure as a side effect.\n",
      "* **Underlying Medical Conditions:** Conditions like kidney disease, thyroid problems, and preeclampsia can cause high systolic blood pressure.\n",
      "\n",
      "**Symptoms of High Systolic Blood Pressure**\n",
      "Most people with high systolic blood pressure do not experience any symptoms. However, some people may experience:\n",
      "* **Headaches**\n",
      "* **Dizziness**\n",
      "* **Nosebleeds**\n",
      "* **Fatigue**\n",
      "* **Shortness of breath**\n",
      "* **Ringing in the ears**\n",
      "\n",
      "**Treatment for High Systolic Blood Pressure**\n",
      "Treatment for high systolic blood pressure depends on the cause and severity of the condition. Treatment options include:\n",
      "* **Lifestyle Changes:** Making lifestyle changes such as eating a healthy diet, exercising regularly, and managing stress can help lower blood pressure.\n",
      "* **Medications:** Antihypertensive medications can help lower blood pressure.\n",
      "* **Other Treatments:** In some cases, other treatments such as weight loss or surgery may be necessary.\n",
      "\n",
      "**If you are concerned about your systolic blood pressure, it is important to see a doctor for diagnosis and treatment.**\n"
     ]
    }
   ],
   "execution_count": 19
  },
  {
   "metadata": {
    "ExecuteTime": {
     "end_time": "2024-10-28T05:00:54.844631Z",
     "start_time": "2024-10-28T05:00:49.944322Z"
    }
   },
   "cell_type": "code",
   "source": [
    "# Pre-trained model test: \"High diastolic blood pressure\"\n",
    "pretrained_diastolic = pretrained_model.generate_content(\"High diastolic blood \"\n",
    "                                                         \"pressure\")\n",
    "print(pretrained_diastolic.text)"
   ],
   "id": "c56f5c0ccb58cc6a",
   "outputs": [
    {
     "name": "stdout",
     "output_type": "stream",
     "text": [
      "## High Diastolic Blood Pressure: What is it and What are the Concerns?\n",
      "\n",
      "A high diastolic blood pressure is when the bottom number of your blood pressure reading is 80mmHg or higher. The diastolic blood pressure is the pressure in your arteries when your heart is at rest between beats. \n",
      "\n",
      "**What is considered high diastolic blood pressure?**\n",
      "\n",
      "A diastolic blood pressure of 80mmHg or higher is considered high.**\n",
      "\n",
      "**What are the concerns associated with high diastolic blood pressure?**\n",
      "\n",
      "A high diastolic blood pressure can indicate that your heart is working harder to pump blood throughout your body, which can lead to:\n",
      "\n",
      "* **Cardiovascular disease**: High diastolic blood pressure is a risk factor for heart disease, stroke, and other cardiovascular problems.\n",
      "* **Kidney disease**: High diastolic blood pressure can damage the blood vessels in your kidneys, leading to kidney disease.\n",
      "* **Preeclampsia**: High diastolic blood pressure during pregnancy can be a sign of preeclampsia, a serious condition that can be dangerous for both mother and baby.\n",
      "* **Other health problems**: High diastolic blood pressure can also lead to other health problems, such as headaches, dizziness, and blurred vision.**\n",
      "\n",
      "**What are the causes of high diastolic blood pressure?**\n",
      "\n",
      "There are many causes of high diastolic blood pressure, including:\n",
      "\n",
      "* **Stress**: Stress can cause your blood pressure to rise\n",
      "* **Smoking**: Smoking damages blood vessels and can lead to high blood pressure\n",
      "* **Obesity**: Being overweight or obese can increase your risk of high blood pressure\n",
      "* **Diet**: A diet high in salt and saturated fat can lead to high blood pressure\n",
      "* **Alcohol**: Excessive alcohol consumption can raise blood pressure\n",
      "* **Lack of exercise**: Regular exercise can help lower blood pressure\n",
      "* **Genetics**: Some people are genetically predisposed to high blood pressure\n",
      "* **Certain medications**: Some medications can raise blood pressure\n",
      "\n",
      "**What can I do if my diastolic blood pressure is high?**\n",
      "\n",
      "If your diastolic blood pressure is high, it is important to see a doctor to discuss the cause and treatment options. There are many things you can do to lower your diastolic blood pressure, including:\n",
      "\n",
      "* **Eating a healthy diet**: Eat a diet low in sodium and saturated fat\n",
      "* **Exercising regularly**: Aim for at least 30 minutes of moderate-intensity exercise most days of the week\n",
      "* **Quitting smoking**: Smoking can raise your blood pressure\n",
      "* **Managing stress**: Find healthy ways to manage stress, such as yoga or meditation\n",
      "* **Getting enough sleep**: Aim for 7-8 hours of sleep per night\n",
      "* **Taking medication**: Your doctor may prescribe medication to lower your blood pressure if necessary**\n",
      "\n",
      "**Important Note**: It's important to consult with a healthcare professional for accurate diagnosis and treatment of high diastolic blood pressure.**\n"
     ]
    }
   ],
   "execution_count": 21
  }
 ],
 "metadata": {
  "kernelspec": {
   "display_name": "Python 3",
   "language": "python",
   "name": "python3"
  },
  "language_info": {
   "codemirror_mode": {
    "name": "ipython",
    "version": 2
   },
   "file_extension": ".py",
   "mimetype": "text/x-python",
   "name": "python",
   "nbconvert_exporter": "python",
   "pygments_lexer": "ipython2",
   "version": "2.7.6"
  }
 },
 "nbformat": 4,
 "nbformat_minor": 5
}
