{
 "cells": [
  {
   "cell_type": "code",
   "id": "initial_id",
   "metadata": {
    "collapsed": true,
    "ExecuteTime": {
     "end_time": "2024-10-28T04:39:13.324847Z",
     "start_time": "2024-10-28T04:39:13.096400Z"
    }
   },
   "source": [
    "# Library import\n",
    "import pandas as pd"
   ],
   "outputs": [],
   "execution_count": 1
  },
  {
   "metadata": {
    "ExecuteTime": {
     "end_time": "2024-10-28T04:39:13.329665Z",
     "start_time": "2024-10-28T04:39:13.328186Z"
    }
   },
   "cell_type": "code",
   "source": [
    "# Constant definition\n",
    "NUM_DP = 2 # Number of decimal places"
   ],
   "id": "627dc6cc4aed8b6a",
   "outputs": [],
   "execution_count": 2
  },
  {
   "metadata": {
    "ExecuteTime": {
     "end_time": "2024-10-28T04:39:13.426423Z",
     "start_time": "2024-10-28T04:39:13.421816Z"
    }
   },
   "cell_type": "code",
   "source": [
    "# Read data and delete 'Country' column\n",
    "training_data = pd.read_csv(\"pre-training data/\"\n",
    "                            \"blood pressure data australia.csv\")\n",
    "training_data = training_data.drop(\"Country\", axis=1)"
   ],
   "id": "dc33794a777e8e98",
   "outputs": [],
   "execution_count": 3
  },
  {
   "metadata": {
    "ExecuteTime": {
     "end_time": "2024-10-28T04:39:13.436302Z",
     "start_time": "2024-10-28T04:39:13.433320Z"
    }
   },
   "cell_type": "code",
   "source": [
    "# Delete non-blood pressure related and confidence interval columns\n",
    "training_data = training_data.drop(columns=[\"Age-standardised prevalence of \"\n",
    "                                            \"raised blood pressure\", \n",
    "                                            \"Age-standardised prevalence of \"\n",
    "                                            \"raised blood pressure lower 95% \"\n",
    "                                            \"uncertainty interval\", \n",
    "                                            \"Age-standardised prevalence of \"\n",
    "                                            \"raised blood pressure upper 95% \"\n",
    "                                            \"uncertainty interval\",\n",
    "                                            \"Crude prevalence of raised blood \"\n",
    "                                            \"pressure\", \n",
    "                                            \"Crude prevalence of raised blood \"\n",
    "                                            \"pressure lower 95% uncertainty \"\n",
    "                                            \"interval\",\n",
    "                                            \"Crude prevalence of raised blood \"\n",
    "                                            \"pressure upper 95% uncertainty \"\n",
    "                                            \"interval\",\n",
    "                                            \"Number of adults with raised blood\"\n",
    "                                            \" pressure\",\n",
    "                                            \"Number of adults with raised blood\"\n",
    "                                            \" pressure lower 95% uncertainty \"\n",
    "                                            \"interval\",\n",
    "                                            \"Number of adults with raised blood\"\n",
    "                                            \" pressure upper 95% uncertainty \"\n",
    "                                            \"interval\", \n",
    "                                            \"Age-standardised mean systolic \"\n",
    "                                            \"blood pressure lower 95% \"\n",
    "                                            \"uncertainty interval (mmHg)\", \n",
    "                                            \"Age-standardised mean systolic \"\n",
    "                                            \"blood pressure upper 95% \"\n",
    "                                            \"uncertainty interval (mmHg)\", \n",
    "                                            \"Age-standardised mean diastolic \"\n",
    "                                            \"blood pressure lower 95% \"\n",
    "                                            \"uncertainty interval (mmHg)\", \n",
    "                                            \"Age-standardised mean diastolic \"\n",
    "                                            \"blood pressure upper 95% \"\n",
    "                                            \"uncertainty interval (mmHg)\"])"
   ],
   "id": "f578744a62a2cd1c",
   "outputs": [],
   "execution_count": 4
  },
  {
   "metadata": {
    "ExecuteTime": {
     "end_time": "2024-10-28T04:39:13.444696Z",
     "start_time": "2024-10-28T04:39:13.441770Z"
    }
   },
   "cell_type": "code",
   "source": [
    "# Blood pressure columns rounded to 2 decimal places and 'Sex' column \n",
    "# decapitalised\n",
    "training_data[\"Age-standardised mean systolic blood pressure (mmHg)\"] = (\n",
    "    training_data[\"Age-standardised mean systolic blood pressure (mmHg)\"]\n",
    "    .apply(lambda x: round(x, NUM_DP)))\n",
    "training_data[\"Age-standardised mean diastolic blood pressure (mmHg)\"] = (\n",
    "    training_data[\"Age-standardised mean diastolic blood pressure (mmHg)\"]\n",
    "    .apply(lambda x: round(x, NUM_DP)))\n",
    "training_data[\"Sex\"] = training_data[\"Sex\"].apply(lambda x: str.lower(x))"
   ],
   "id": "87c8f55b74bf1ae4",
   "outputs": [],
   "execution_count": 5
  },
  {
   "metadata": {
    "ExecuteTime": {
     "end_time": "2024-10-28T04:39:13.453995Z",
     "start_time": "2024-10-28T04:39:13.450695Z"
    }
   },
   "cell_type": "code",
   "source": [
    "# Create 'input systolic' and 'input diastolic' columns by merging 'Sex' and \n",
    "# 'Year' columns\n",
    "training_data[\"Year\"] = training_data[\"Year\"].astype(str)\n",
    "training_data[\"input systolic\"] = ((\"Mean systolic blood pressure of \") + \n",
    "                                   training_data[\"Sex\"] + \" in \" + \n",
    "                                   training_data[\"Year\"])\n",
    "training_data[\"input diastolic\"] = ((\"Mean diastolic blood pressure of \") + \n",
    "                                    training_data[\"Sex\"] + \" in \" + \n",
    "                                    training_data[\"Year\"])\n",
    "training_data = training_data.drop(columns=[\"Sex\", \"Year\"])"
   ],
   "id": "c9015e529a13f4d9",
   "outputs": [],
   "execution_count": 6
  },
  {
   "metadata": {
    "ExecuteTime": {
     "end_time": "2024-10-28T04:39:13.464734Z",
     "start_time": "2024-10-28T04:39:13.462624Z"
    }
   },
   "cell_type": "code",
   "source": [
    "# Rename blood pressure columns to 'output systolic' and 'output diastolic'\n",
    "training_data = training_data.rename(columns={\"Age-standardised mean systolic \"\n",
    "                                              \"blood pressure (mmHg)\": \n",
    "                                                  \"output systolic\", \n",
    "                                              \"Age-standardised mean diastolic \"\n",
    "                                              \"blood pressure (mmHg)\": \n",
    "                                                  \"output diastolic\"})"
   ],
   "id": "b8dad3b77e05c92c",
   "outputs": [],
   "execution_count": 7
  },
  {
   "metadata": {
    "ExecuteTime": {
     "end_time": "2024-10-28T04:39:13.483737Z",
     "start_time": "2024-10-28T04:39:13.481430Z"
    }
   },
   "cell_type": "code",
   "source": [
    "# Create 'systolic' and 'diastolic' dataframes with 'text_input' and 'output' \n",
    "# columns\n",
    "systolic = pd.DataFrame({\"text_input\": training_data[\"input systolic\"], \n",
    "                         \"output\": training_data[\"output systolic\"]})\n",
    "diastolic = pd.DataFrame({\"text_input\": training_data[\"input diastolic\"], \n",
    "                          \"output\": training_data[\"output diastolic\"]})"
   ],
   "id": "867ec2c44b142fca",
   "outputs": [],
   "execution_count": 8
  },
  {
   "metadata": {
    "ExecuteTime": {
     "end_time": "2024-10-28T04:39:13.494382Z",
     "start_time": "2024-10-28T04:39:13.492335Z"
    }
   },
   "cell_type": "code",
   "source": [
    "# Merge 'systolic' and 'diastolic' vertically\n",
    "training_data = pd.concat([systolic, diastolic])"
   ],
   "id": "bc01585745620712",
   "outputs": [],
   "execution_count": 9
  },
  {
   "metadata": {
    "ExecuteTime": {
     "end_time": "2024-10-28T04:39:13.507773Z",
     "start_time": "2024-10-28T04:39:13.505367Z"
    }
   },
   "cell_type": "code",
   "source": [
    "# Add context to 'output' column\n",
    "training_data[\"output\"] = training_data[\"output\"].astype(str)\n",
    "training_data[\"output\"] = (training_data[\"text_input\"] + \" is \" + \n",
    "                           training_data[\"output\"] + \"mmHg\")"
   ],
   "id": "7207d07f3681378a",
   "outputs": [],
   "execution_count": 10
  },
  {
   "metadata": {
    "ExecuteTime": {
     "end_time": "2024-10-28T04:39:13.622846Z",
     "start_time": "2024-10-28T04:39:13.516498Z"
    }
   },
   "cell_type": "code",
   "source": [
    "# Export 'training_data' to excel\n",
    "training_data.to_excel(\"pre-training data/blood pressure data australia \"\n",
    "                       \"prepared.xlsx\", index=False)"
   ],
   "id": "9d7b3e3e611362bf",
   "outputs": [],
   "execution_count": 11
  }
 ],
 "metadata": {
  "kernelspec": {
   "display_name": "Python 3",
   "language": "python",
   "name": "python3"
  },
  "language_info": {
   "codemirror_mode": {
    "name": "ipython",
    "version": 2
   },
   "file_extension": ".py",
   "mimetype": "text/x-python",
   "name": "python",
   "nbconvert_exporter": "python",
   "pygments_lexer": "ipython2",
   "version": "2.7.6"
  }
 },
 "nbformat": 4,
 "nbformat_minor": 5
}
